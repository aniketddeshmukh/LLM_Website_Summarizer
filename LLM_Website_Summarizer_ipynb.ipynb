{
  "nbformat": 4,
  "nbformat_minor": 0,
  "metadata": {
    "colab": {
      "provenance": [],
      "authorship_tag": "ABX9TyOF2m+1n7QnrZftHgb2dziN",
      "include_colab_link": true
    },
    "kernelspec": {
      "name": "python3",
      "display_name": "Python 3"
    },
    "language_info": {
      "name": "python"
    }
  },
  "cells": [
    {
      "cell_type": "markdown",
      "metadata": {
        "id": "view-in-github",
        "colab_type": "text"
      },
      "source": [
        "<a href=\"https://colab.research.google.com/github/aniketddeshmukh/LLM_Website_Summarizer/blob/main/LLM_Website_Summarizer_ipynb.ipynb\" target=\"_parent\"><img src=\"https://colab.research.google.com/assets/colab-badge.svg\" alt=\"Open In Colab\"/></a>"
      ]
    },
    {
      "cell_type": "code",
      "execution_count": 1,
      "metadata": {
        "id": "UrMAwst4nqNu"
      },
      "outputs": [],
      "source": [
        "import os\n",
        "import requests\n",
        "from bs4 import BeautifulSoup\n",
        "from IPython.display import Markdown, display\n",
        "import google.generativeai as genai"
      ]
    },
    {
      "cell_type": "code",
      "source": [
        "from google.colab import userdata\n",
        "google_api_key=userdata.get('GOOGLE_API_KEY')"
      ],
      "metadata": {
        "id": "NCNlG3NX3n4H"
      },
      "execution_count": 2,
      "outputs": []
    },
    {
      "cell_type": "code",
      "source": [
        "genai.configure(api_key=google_api_key)\n",
        "\n",
        "generation_config = {\n",
        "  \"temperature\": 1,\n",
        "  \"top_p\": 0.95,\n",
        "  \"top_k\": 40,\n",
        "  \"max_output_tokens\": 8192,\n",
        "  \"response_mime_type\": \"text/plain\",\n",
        "}\n",
        "user_prompt=\"Tell a light-hearted joke for an audience of Data Scientists\"\n",
        "model = genai.GenerativeModel(\n",
        "  model_name=\"gemini-2.0-flash-lite-preview-02-05\",\n",
        "  system_instruction=\"You are an AI assistant that extracts key insights from web articles and presents concise summaries. Keep the summaries informative and easy to understand.\",\n",
        "\n",
        "  generation_config=generation_config,\n",
        ")\n"
      ],
      "metadata": {
        "id": "EuV_Rrl24KAx"
      },
      "execution_count": 4,
      "outputs": []
    },
    {
      "cell_type": "code",
      "source": [
        "def fetch_website_content(url):\n",
        "    headers = {\n",
        "    \"User-Agent\": \"Mozilla/5.0 (Windows NT 10.0; Win64; x64) AppleWebKit/537.36 (KHTML, like Gecko) Chrome/120.0.0.0 Safari/537.36\"}\n",
        "\n",
        "    response = requests.get(url, headers=headers)\n",
        "\n",
        "    if response.status_code == 200:\n",
        "        soup = BeautifulSoup(response.content, 'html.parser')\n",
        "        response.title = soup.title.string if soup.title else \"No title found\"\n",
        "        for irrelevant in soup.body([\"script\", \"style\", \"img\", \"input\"]):\n",
        "            irrelevant.decompose()\n",
        "        return soup.body.get_text(separator=\"\\n\", strip=True)\n",
        "    else:\n",
        "        raise Exception(f\"Failed to fetch the webpage. Status code: {response.status_code}\")"
      ],
      "metadata": {
        "id": "NzPsbVDH5CMW"
      },
      "execution_count": 5,
      "outputs": []
    },
    {
      "cell_type": "code",
      "source": [
        "def summarize_content(content):\n",
        "    response = model.generate_content(content)\n",
        "    return response.text"
      ],
      "metadata": {
        "id": "G0NY3q7c5OD4"
      },
      "execution_count": 6,
      "outputs": []
    },
    {
      "cell_type": "code",
      "source": [
        "def display_summary(content):\n",
        "    summary = summarize_content(content)\n",
        "    display(Markdown(summary))"
      ],
      "metadata": {
        "id": "_rjQTlK3-thD"
      },
      "execution_count": 7,
      "outputs": []
    },
    {
      "cell_type": "code",
      "source": [
        "def main():\n",
        "    url = \"https://www.edwarddonner.com\"\n",
        "    try:\n",
        "        content = fetch_website_content(url)\n",
        "        summary = display_summary(content)\n",
        "    except Exception as e:\n",
        "        print(\"Error:\", e)"
      ],
      "metadata": {
        "id": "RfVleiaJ9SjU"
      },
      "execution_count": 8,
      "outputs": []
    },
    {
      "cell_type": "code",
      "source": [
        "if __name__ == \"__main__\":\n",
        "    main()\n"
      ],
      "metadata": {
        "colab": {
          "base_uri": "https://localhost:8080/",
          "height": 104
        },
        "id": "aWsAiytT9YRK",
        "outputId": "78c0911d-a169-4eeb-e8f3-074efdbaf79f"
      },
      "execution_count": 9,
      "outputs": [
        {
          "output_type": "display_data",
          "data": {
            "text/plain": [
              "<IPython.core.display.Markdown object>"
            ],
            "text/markdown": "Here's a summary of the webpage:\n\nThe page is a personal blog by Ed, who is interested in coding and experimenting with Large Language Models (LLMs). He's the co-founder and CTO of Nebula.io, an AI company focused on helping people discover their potential. Previously, he was the founder and CEO of AI startup untapt, which was acquired in 2021. The blog includes links to his projects like \"Connect Four\" and \"Outsmart\" which are LLM-based. It also includes links to his social media and contact information.\n"
          },
          "metadata": {}
        }
      ]
    }
  ]
}